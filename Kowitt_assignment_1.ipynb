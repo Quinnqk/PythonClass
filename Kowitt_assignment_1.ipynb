{
  "nbformat": 4,
  "nbformat_minor": 0,
  "metadata": {
    "kernelspec": {
      "display_name": "Python 3",
      "language": "python",
      "name": "python3"
    },
    "language_info": {
      "codemirror_mode": {
        "name": "ipython",
        "version": 3
      },
      "file_extension": ".py",
      "mimetype": "text/x-python",
      "name": "python",
      "nbconvert_exporter": "python",
      "pygments_lexer": "ipython3",
      "version": "3.7.3"
    },
    "colab": {
      "name": "Kowitt-assignment_1.ipynb",
      "provenance": [],
      "collapsed_sections": []
    }
  },
  "cells": [
    {
      "cell_type": "code",
      "metadata": {
        "jupyter": {
          "outputs_hidden": true
        },
        "id": "7W06rDp8sYbu",
        "colab_type": "code",
        "colab": {}
      },
      "source": [
        "# Enter Student names here:\n",
        "student_names = ['Aiden West', 'Jacob Koehler', 'Riba Hossain', 'Quinn Kowitt', 'Chen', 'Jackson', 'Alina', 'Kristina', 'Kha', 'Gabi']"
      ],
      "execution_count": 0,
      "outputs": []
    },
    {
      "cell_type": "markdown",
      "metadata": {
        "id": "wpgBdlBOsYb3",
        "colab_type": "text"
      },
      "source": [
        "---\n",
        "\n",
        "### 1) What are the types of the following variables?"
      ]
    },
    {
      "cell_type": "code",
      "metadata": {
        "jupyter": {
          "outputs_hidden": true
        },
        "id": "qzV-ubENsYb4",
        "colab_type": "code",
        "colab": {}
      },
      "source": [
        "a = 1\n",
        "b = 2.6\n",
        "c = [1,2,3,5,6]\n",
        "d = {'steven':'segal', 'master':'pai'}\n",
        "e = ('one', 'two', 'three')\n",
        "f = {1:{'key':'value'}, 2:{'key2':'value2'}}\n",
        "g = True\n",
        "h = False\n",
        "i = 'integer'"
      ],
      "execution_count": 0,
      "outputs": []
    },
    {
      "cell_type": "code",
      "metadata": {
        "jupyter": {
          "outputs_hidden": true
        },
        "id": "UsijjXNzsYb8",
        "colab_type": "code",
        "outputId": "6b0290ae-0c4c-4a90-b54b-67ed5198f159",
        "colab": {
          "base_uri": "https://localhost:8080/",
          "height": 173
        }
      },
      "source": [
        "print(\"a\",type(a))\n",
        "print(\"b\",type(b))\n",
        "print(\"c\",type(c))\n",
        "print(\"d\",type(d))\n",
        "print(\"e\",type(e))\n",
        "print(\"f\",type(f))\n",
        "print(\"g\",type(g))\n",
        "print(\"h\",type(h))\n",
        "print(\"i\",type(i))"
      ],
      "execution_count": 5,
      "outputs": [
        {
          "output_type": "stream",
          "text": [
            "a <class 'int'>\n",
            "b <class 'float'>\n",
            "c <class 'list'>\n",
            "d <class 'dict'>\n",
            "e <class 'tuple'>\n",
            "f <class 'dict'>\n",
            "g <class 'bool'>\n",
            "h <class 'bool'>\n",
            "i <class 'str'>\n"
          ],
          "name": "stdout"
        }
      ]
    },
    {
      "cell_type": "markdown",
      "metadata": {
        "id": "HUcVWoKcsYcA",
        "colab_type": "text"
      },
      "source": [
        "---\n",
        "\n",
        "1.   List item\n",
        "2.   List item\n",
        "\n",
        "\n",
        "\n",
        "### 2) What is the difference between a \"mutable\" and an \"immutable\" object?"
      ]
    },
    {
      "cell_type": "code",
      "metadata": {
        "jupyter": {
          "outputs_hidden": true
        },
        "id": "vE8aPQJmsYcB",
        "colab_type": "code",
        "colab": {}
      },
      "source": [
        "# A:\n",
        "# an immutale object cannot be changed or modified after it is created, while a mutable object can be."
      ],
      "execution_count": 0,
      "outputs": []
    },
    {
      "cell_type": "markdown",
      "metadata": {
        "id": "NSdQSbvwsYcG",
        "colab_type": "text"
      },
      "source": [
        "---\n",
        "\n",
        "### 3) Print the `student_names` list."
      ]
    },
    {
      "cell_type": "code",
      "metadata": {
        "jupyter": {
          "outputs_hidden": false
        },
        "id": "Vy2Dx7i9sYcH",
        "colab_type": "code",
        "outputId": "25595603-6e13-4f80-89a5-33c1509dd909",
        "colab": {
          "base_uri": "https://localhost:8080/",
          "height": 35
        }
      },
      "source": [
        "# A:\n",
        "print(student_names)"
      ],
      "execution_count": 6,
      "outputs": [
        {
          "output_type": "stream",
          "text": [
            "['Aiden West', 'Jacob Koehler', 'Riba Hossain', 'Quinn Kowitt', 'Chen', 'Jackson', 'Alina', 'Kristina', 'Kha', 'Gabi']\n"
          ],
          "name": "stdout"
        }
      ]
    },
    {
      "cell_type": "markdown",
      "metadata": {
        "id": "WqeRbXpZsYcL",
        "colab_type": "text"
      },
      "source": [
        "---\n",
        "\n",
        "### 4) Print the names of the first and last students on the list."
      ]
    },
    {
      "cell_type": "code",
      "metadata": {
        "jupyter": {
          "outputs_hidden": false
        },
        "id": "bu7NI24lsYcN",
        "colab_type": "code",
        "outputId": "31ea769a-202e-4d70-f11f-ed89519d9aa0",
        "colab": {
          "base_uri": "https://localhost:8080/",
          "height": 35
        }
      },
      "source": [
        "# A:\n",
        "student_names[0], student_names[9]"
      ],
      "execution_count": 7,
      "outputs": [
        {
          "output_type": "execute_result",
          "data": {
            "text/plain": [
              "('Aiden West', 'Gabi')"
            ]
          },
          "metadata": {
            "tags": []
          },
          "execution_count": 7
        }
      ]
    },
    {
      "cell_type": "markdown",
      "metadata": {
        "id": "50n718BQsYcQ",
        "colab_type": "text"
      },
      "source": [
        "---\n",
        "\n",
        "### 5) Print the first five names in the `student_names` list."
      ]
    },
    {
      "cell_type": "code",
      "metadata": {
        "jupyter": {
          "outputs_hidden": false
        },
        "id": "7m6YWvNFsYcR",
        "colab_type": "code",
        "outputId": "8733ebf5-9818-4910-cd34-4f99ea659766",
        "colab": {
          "base_uri": "https://localhost:8080/",
          "height": 35
        }
      },
      "source": [
        "# A:\n",
        "student_names[0:4]"
      ],
      "execution_count": 8,
      "outputs": [
        {
          "output_type": "execute_result",
          "data": {
            "text/plain": [
              "['Aiden West', 'Jacob Koehler', 'Riba Hossain', 'Quinn Kowitt']"
            ]
          },
          "metadata": {
            "tags": []
          },
          "execution_count": 8
        }
      ]
    },
    {
      "cell_type": "markdown",
      "metadata": {
        "id": "cf7qLpbPsYcU",
        "colab_type": "text"
      },
      "source": [
        "---\n",
        "\n",
        "### 6) Combine the ninth and 10th student names into a single string, separated by a space. Assign that string to a variable."
      ]
    },
    {
      "cell_type": "code",
      "metadata": {
        "jupyter": {
          "outputs_hidden": false
        },
        "id": "KUvbqVvZsYcW",
        "colab_type": "code",
        "outputId": "bb8d84da-825e-4db2-d30e-aabf2519b527",
        "colab": {
          "base_uri": "https://localhost:8080/",
          "height": 35
        }
      },
      "source": [
        "# A:\n",
        "new_variable = student_names[-2]+\" \"+student_names[-1]\n",
        "print(new_variable)"
      ],
      "execution_count": 9,
      "outputs": [
        {
          "output_type": "stream",
          "text": [
            "Kha Gabi\n"
          ],
          "name": "stdout"
        }
      ]
    },
    {
      "cell_type": "markdown",
      "metadata": {
        "id": "K1IS0qWjsYca",
        "colab_type": "text"
      },
      "source": [
        "---\n",
        "\n",
        "### 7) Append an animal to the list of animals."
      ]
    },
    {
      "cell_type": "code",
      "metadata": {
        "jupyter": {
          "outputs_hidden": true
        },
        "id": "hQ5zdziSsYcb",
        "colab_type": "code",
        "colab": {}
      },
      "source": [
        "animals = ['duck', 'rat', 'boar', 'slug', 'mammoth', 'gazelle']"
      ],
      "execution_count": 0,
      "outputs": []
    },
    {
      "cell_type": "code",
      "metadata": {
        "jupyter": {
          "outputs_hidden": false
        },
        "id": "s0SI8FLHsYce",
        "colab_type": "code",
        "colab": {}
      },
      "source": [
        "# A:\n",
        "animals.append('mouse')"
      ],
      "execution_count": 0,
      "outputs": []
    },
    {
      "cell_type": "markdown",
      "metadata": {
        "id": "VhxkTpYGsYch",
        "colab_type": "text"
      },
      "source": [
        "---\n",
        "\n",
        "### 8) Print the length of the `animals` list."
      ]
    },
    {
      "cell_type": "code",
      "metadata": {
        "jupyter": {
          "outputs_hidden": false
        },
        "id": "xsvk4FWjsYci",
        "colab_type": "code",
        "outputId": "0c8c12db-609f-4f29-d73a-df12a7961870",
        "colab": {
          "base_uri": "https://localhost:8080/",
          "height": 35
        }
      },
      "source": [
        "# A:\n",
        "print (len(animals))"
      ],
      "execution_count": 12,
      "outputs": [
        {
          "output_type": "stream",
          "text": [
            "7\n"
          ],
          "name": "stdout"
        }
      ]
    },
    {
      "cell_type": "markdown",
      "metadata": {
        "id": "JOl3w583sYck",
        "colab_type": "text"
      },
      "source": [
        "---\n",
        "\n",
        "### 9) Divide the length of the fifth animal by the second."
      ]
    },
    {
      "cell_type": "code",
      "metadata": {
        "jupyter": {
          "outputs_hidden": false
        },
        "id": "SYm6jd73sYcl",
        "colab_type": "code",
        "outputId": "cead4814-2c35-4ee3-e78f-d6fc9c5195e0",
        "colab": {
          "base_uri": "https://localhost:8080/",
          "height": 35
        }
      },
      "source": [
        "# A:\n",
        "variable = len(animals[4])/len(animals[1])\n",
        "print(variable)"
      ],
      "execution_count": 13,
      "outputs": [
        {
          "output_type": "stream",
          "text": [
            "2.3333333333333335\n"
          ],
          "name": "stdout"
        }
      ]
    },
    {
      "cell_type": "markdown",
      "metadata": {
        "id": "nWxek-vVsYco",
        "colab_type": "text"
      },
      "source": [
        "---\n",
        "\n",
        "### 10) Perform the same division, but ensure the output is a decimal number."
      ]
    },
    {
      "cell_type": "code",
      "metadata": {
        "jupyter": {
          "outputs_hidden": false
        },
        "id": "rYO61ywtsYcp",
        "colab_type": "code",
        "outputId": "171b8ad3-51ef-4c27-ae20-ef10858f7cc0",
        "colab": {
          "base_uri": "https://localhost:8080/",
          "height": 35
        }
      },
      "source": [
        "# A:\n",
        "print(float(variable))"
      ],
      "execution_count": 16,
      "outputs": [
        {
          "output_type": "stream",
          "text": [
            "2.3333333333333335\n"
          ],
          "name": "stdout"
        }
      ]
    },
    {
      "cell_type": "markdown",
      "metadata": {
        "id": "zwZK0AAEsYct",
        "colab_type": "text"
      },
      "source": [
        "---\n",
        "\n",
        "### 11) Demonstrate two different ways to combine the `animals` list and the `numbers` list."
      ]
    },
    {
      "cell_type": "code",
      "metadata": {
        "jupyter": {
          "outputs_hidden": true
        },
        "id": "-1iDEV0FsYcu",
        "colab_type": "code",
        "colab": {}
      },
      "source": [
        "numbers = [0., 0.1, 1., 10., 100., 1000.]"
      ],
      "execution_count": 0,
      "outputs": []
    },
    {
      "cell_type": "code",
      "metadata": {
        "jupyter": {
          "outputs_hidden": false
        },
        "id": "Fsx4s49bsYcy",
        "colab_type": "code",
        "outputId": "484aa5da-849a-4080-e6c5-efc4f89c9762",
        "colab": {
          "base_uri": "https://localhost:8080/",
          "height": 52
        }
      },
      "source": [
        "# A:\n",
        "joinedlist1 = numbers + animals\n",
        "print(joinedlist1)\n",
        "joinedlist2 = [*numbers, *animals]\n",
        "print(joinedlist2)"
      ],
      "execution_count": 18,
      "outputs": [
        {
          "output_type": "stream",
          "text": [
            "[0.0, 0.1, 1.0, 10.0, 100.0, 1000.0, 'duck', 'rat', 'boar', 'slug', 'mammoth', 'gazelle', 'mouse']\n",
            "[0.0, 0.1, 1.0, 10.0, 100.0, 1000.0, 'duck', 'rat', 'boar', 'slug', 'mammoth', 'gazelle', 'mouse']\n"
          ],
          "name": "stdout"
        }
      ]
    },
    {
      "cell_type": "markdown",
      "metadata": {
        "id": "NfO6qx9PsYc1",
        "colab_type": "text"
      },
      "source": [
        "---\n",
        "\n",
        "### 12) Remove `'kiefer'` from the list and insert your own name in its place."
      ]
    },
    {
      "cell_type": "code",
      "metadata": {
        "jupyter": {
          "outputs_hidden": true
        },
        "id": "6Ob1DQKxsYc5",
        "colab_type": "code",
        "colab": {}
      },
      "source": [
        "names = ['doug', 'billy', 'kiefer', 'kian', 'sam']"
      ],
      "execution_count": 0,
      "outputs": []
    },
    {
      "cell_type": "code",
      "metadata": {
        "jupyter": {
          "outputs_hidden": false
        },
        "id": "wvMj8_u5sYc8",
        "colab_type": "code",
        "outputId": "44065185-35eb-46b8-de79-b3a19690e64c",
        "colab": {
          "base_uri": "https://localhost:8080/",
          "height": 35
        }
      },
      "source": [
        "# A:\n",
        "names[names.index('kiefer')] = 'quinn'\n",
        "print(names)"
      ],
      "execution_count": 20,
      "outputs": [
        {
          "output_type": "stream",
          "text": [
            "['doug', 'billy', 'quinn', 'kian', 'sam']\n"
          ],
          "name": "stdout"
        }
      ]
    },
    {
      "cell_type": "markdown",
      "metadata": {
        "id": "11rU7SznsYc-",
        "colab_type": "text"
      },
      "source": [
        "---\n",
        "\n",
        "### 13) Manually check whether or not one element of `mix` is greater than another."
      ]
    },
    {
      "cell_type": "code",
      "metadata": {
        "jupyter": {
          "outputs_hidden": false
        },
        "id": "mP58wodGsYc_",
        "colab_type": "code",
        "colab": {
          "base_uri": "https://localhost:8080/",
          "height": 35
        },
        "outputId": "211bd5c9-431c-4098-cce9-a53fe45205f9"
      },
      "source": [
        "# A:\n",
        "mix = [1, 4, 12.4, True, 'a', '34']\n",
        "\n",
        "check = mix[0] > mix[2]\n",
        "check"
      ],
      "execution_count": 23,
      "outputs": [
        {
          "output_type": "execute_result",
          "data": {
            "text/plain": [
              "False"
            ]
          },
          "metadata": {
            "tags": []
          },
          "execution_count": 23
        }
      ]
    },
    {
      "cell_type": "markdown",
      "metadata": {
        "id": "KmV45b-8sYdD",
        "colab_type": "text"
      },
      "source": [
        "---\n",
        "\n",
        "### 14) Find the index of `'a'` in the list."
      ]
    },
    {
      "cell_type": "code",
      "metadata": {
        "jupyter": {
          "outputs_hidden": false
        },
        "id": "OJVPra5msYdE",
        "colab_type": "code",
        "outputId": "75959f12-21ef-4d22-a2e2-aaf0dc4c973a",
        "colab": {
          "base_uri": "https://localhost:8080/",
          "height": 35
        }
      },
      "source": [
        "# A:\n",
        "mix.index('a')"
      ],
      "execution_count": 24,
      "outputs": [
        {
          "output_type": "execute_result",
          "data": {
            "text/plain": [
              "4"
            ]
          },
          "metadata": {
            "tags": []
          },
          "execution_count": 24
        }
      ]
    },
    {
      "cell_type": "markdown",
      "metadata": {
        "id": "fhVGzVVwsYdH",
        "colab_type": "text"
      },
      "source": [
        "---\n",
        "\n",
        "### 15) Reverse the `mix` list."
      ]
    },
    {
      "cell_type": "code",
      "metadata": {
        "jupyter": {
          "outputs_hidden": true
        },
        "id": "yQvWvEc2sYdH",
        "colab_type": "code",
        "outputId": "81c426a1-18c9-43fa-8f44-6a64ebee6465",
        "colab": {
          "base_uri": "https://localhost:8080/",
          "height": 35
        }
      },
      "source": [
        "# A:\n",
        "mix.reverse()\n",
        "print(mix)"
      ],
      "execution_count": 25,
      "outputs": [
        {
          "output_type": "stream",
          "text": [
            "['34', 'a', True, 12.4, 4, 1]\n"
          ],
          "name": "stdout"
        }
      ]
    },
    {
      "cell_type": "markdown",
      "metadata": {
        "id": "HdV9X5C2sYdK",
        "colab_type": "text"
      },
      "source": [
        "---\n",
        "\n",
        "### 16) Remove the last element of `mix`  and assign it to a variable."
      ]
    },
    {
      "cell_type": "code",
      "metadata": {
        "jupyter": {
          "outputs_hidden": true
        },
        "id": "-y_D9mtrsYdK",
        "colab_type": "code",
        "outputId": "23e0cd23-b42f-46fe-b0c7-deaf55e716b3",
        "colab": {
          "base_uri": "https://localhost:8080/",
          "height": 52
        }
      },
      "source": [
        "# A:\n",
        "new_var = mix[-1]\n",
        "print(new_var)\n",
        "\n",
        "mix.remove(1)\n",
        "print(mix)"
      ],
      "execution_count": 26,
      "outputs": [
        {
          "output_type": "stream",
          "text": [
            "1\n",
            "['34', 'a', 12.4, 4, 1]\n"
          ],
          "name": "stdout"
        }
      ]
    },
    {
      "cell_type": "markdown",
      "metadata": {
        "id": "nbqdlwTUsYdN",
        "colab_type": "text"
      },
      "source": [
        "---\n",
        "\n",
        "### 17) Count the number of times `0` appears in the following list."
      ]
    },
    {
      "cell_type": "code",
      "metadata": {
        "jupyter": {
          "outputs_hidden": true
        },
        "id": "M7PI1-BCsYdO",
        "colab_type": "code",
        "colab": {}
      },
      "source": [
        "binary = [0,1,1,0,1,0,1,1,1,1,0,0,1,0,0,1,0,1,1,0,0,1,1,0,1,1,0,0,0,1,1,1,0,1,0,1]"
      ],
      "execution_count": 0,
      "outputs": []
    },
    {
      "cell_type": "code",
      "metadata": {
        "jupyter": {
          "outputs_hidden": false
        },
        "id": "YN96hzZBsYdS",
        "colab_type": "code",
        "outputId": "fb90220a-e775-4c14-e71e-5a985a5c380e",
        "colab": {
          "base_uri": "https://localhost:8080/",
          "height": 35
        }
      },
      "source": [
        "# A:\n",
        "zeros = binary.count(0)\n",
        "print(zeros)"
      ],
      "execution_count": 29,
      "outputs": [
        {
          "output_type": "stream",
          "text": [
            "16\n"
          ],
          "name": "stdout"
        }
      ]
    },
    {
      "cell_type": "markdown",
      "metadata": {
        "id": "zURCGtS9sYdU",
        "colab_type": "text"
      },
      "source": [
        "[link text](https://)---\n",
        "\n",
        "### 18) Create an SF (San Francisco) zip code dictionary.\n",
        "\n",
        "With the following key-value pairs:\n",
        "\n",
        "    'sunset':94122\n",
        "    'presidio':94129\n",
        "    'soma':94105\n",
        "    'marina':94123"
      ]
    },
    {
      "cell_type": "code",
      "metadata": {
        "jupyter": {
          "outputs_hidden": false
        },
        "id": "ETaptU7UsYdV",
        "colab_type": "code",
        "outputId": "fbf5a514-97b2-4971-ec98-2c714c173890",
        "colab": {
          "base_uri": "https://localhost:8080/",
          "height": 35
        }
      },
      "source": [
        "# A:\n",
        "SF = {'sunset':94122\n",
        ",'presidio':94129\n",
        ",'soma':94105\n",
        ",'marina':94123}\n",
        "print(SF)"
      ],
      "execution_count": 46,
      "outputs": [
        {
          "output_type": "stream",
          "text": [
            "{'sunset': 94122, 'presidio': 94129, 'soma': 94105, 'marina': 94123}\n"
          ],
          "name": "stdout"
        }
      ]
    },
    {
      "cell_type": "markdown",
      "metadata": {
        "id": "zd3pwDlqsYdX",
        "colab_type": "text"
      },
      "source": [
        "---\n",
        "\n",
        "### 19) Get the zip code for `'soma'` and assign it to a variable."
      ]
    },
    {
      "cell_type": "code",
      "metadata": {
        "jupyter": {
          "outputs_hidden": false
        },
        "id": "5p4gnnPqsYdY",
        "colab_type": "code",
        "outputId": "1bdab0e6-879f-484b-8718-85bb91a9df56",
        "colab": {
          "base_uri": "https://localhost:8080/",
          "height": 35
        }
      },
      "source": [
        "# A:\n",
        "soma_val = (SF['soma'])\n",
        "soma_val"
      ],
      "execution_count": 49,
      "outputs": [
        {
          "output_type": "execute_result",
          "data": {
            "text/plain": [
              "94105"
            ]
          },
          "metadata": {
            "tags": []
          },
          "execution_count": 49
        }
      ]
    },
    {
      "cell_type": "markdown",
      "metadata": {
        "id": "vYdbOkkfsYdb",
        "colab_type": "text"
      },
      "source": [
        "---\n",
        "\n",
        "### 20) Get the keys out of the dictionary."
      ]
    },
    {
      "cell_type": "code",
      "metadata": {
        "jupyter": {
          "outputs_hidden": true
        },
        "id": "r4I7auLtsYdc",
        "colab_type": "code",
        "outputId": "3b10dc05-f283-471d-f1e5-60caeffeadd7",
        "colab": {
          "base_uri": "https://localhost:8080/",
          "height": 35
        }
      },
      "source": [
        "# A:\n",
        "list(SF)"
      ],
      "execution_count": 33,
      "outputs": [
        {
          "output_type": "execute_result",
          "data": {
            "text/plain": [
              "['sunset', 'presidio', 'soma', 'marina']"
            ]
          },
          "metadata": {
            "tags": []
          },
          "execution_count": 33
        }
      ]
    },
    {
      "cell_type": "markdown",
      "metadata": {
        "id": "j46C1TcosYdf",
        "colab_type": "text"
      },
      "source": [
        "---\n",
        "\n",
        "### 21) Get the key-value pairs out of the dictionary as a list of tuples."
      ]
    },
    {
      "cell_type": "code",
      "metadata": {
        "jupyter": {
          "outputs_hidden": true
        },
        "id": "044pHUAIsYdg",
        "colab_type": "code",
        "outputId": "4e679d4c-4ec1-4a82-8d4c-ccff670295c8",
        "colab": {
          "base_uri": "https://localhost:8080/",
          "height": 35
        }
      },
      "source": [
        "# A:\n",
        "SF.values()"
      ],
      "execution_count": 50,
      "outputs": [
        {
          "output_type": "execute_result",
          "data": {
            "text/plain": [
              "dict_values([94122, 94129, 94105, 94123])"
            ]
          },
          "metadata": {
            "tags": []
          },
          "execution_count": 50
        }
      ]
    },
    {
      "cell_type": "code",
      "metadata": {
        "id": "E1FFYUQzG4AV",
        "colab_type": "code",
        "outputId": "43ac552d-6d43-4e63-e548-844e06211a7e",
        "colab": {
          "base_uri": "https://localhost:8080/",
          "height": 35
        }
      },
      "source": [
        "zip_tup = [(k, v) for k, v in SF.items()] \n",
        "print(zip_tup)"
      ],
      "execution_count": 64,
      "outputs": [
        {
          "output_type": "stream",
          "text": [
            "[('presidio', 94129), ('soma', 94105), ('marina', 94123), ('castro', 94114), ('outer_richmond', 94121), ('dogpatch', 94107)]\n"
          ],
          "name": "stdout"
        }
      ]
    },
    {
      "cell_type": "markdown",
      "metadata": {
        "id": "KTyhAbtbsYdj",
        "colab_type": "text"
      },
      "source": [
        "---\n",
        "\n",
        "### 22) Add The Castro to the dictionary with the zip code 94114."
      ]
    },
    {
      "cell_type": "code",
      "metadata": {
        "jupyter": {
          "outputs_hidden": false
        },
        "id": "g4AGiQd9sYdk",
        "colab_type": "code",
        "outputId": "bb3dd5cc-dc34-41a3-eb35-0927d06025e3",
        "colab": {
          "base_uri": "https://localhost:8080/",
          "height": 35
        }
      },
      "source": [
        "# A:\n",
        "SF['castro'] = 94114  \n",
        "print(SF)"
      ],
      "execution_count": 52,
      "outputs": [
        {
          "output_type": "stream",
          "text": [
            "{'sunset': 94122, 'presidio': 94129, 'soma': 94105, 'marina': 94123, 'castro': 94114}\n"
          ],
          "name": "stdout"
        }
      ]
    },
    {
      "cell_type": "markdown",
      "metadata": {
        "id": "ffnRlfNnsYdn",
        "colab_type": "text"
      },
      "source": [
        "---\n",
        "\n",
        "### 23) Combine the following smaller dictionary of districts with the SF zip code dictionary."
      ]
    },
    {
      "cell_type": "code",
      "metadata": {
        "jupyter": {
          "outputs_hidden": true
        },
        "id": "graQcJuQsYdn",
        "colab_type": "code",
        "colab": {}
      },
      "source": [
        "small = {'outer_richmond':94121, 'dogpatch':94107}"
      ],
      "execution_count": 0,
      "outputs": []
    },
    {
      "cell_type": "code",
      "metadata": {
        "jupyter": {
          "outputs_hidden": false
        },
        "id": "YW4rRgycsYdq",
        "colab_type": "code",
        "outputId": "79626f57-bfff-4fe5-bb9f-6b2accbefce2",
        "colab": {
          "base_uri": "https://localhost:8080/",
          "height": 35
        }
      },
      "source": [
        "# A:\n",
        "SF.update(small)\n",
        "print(SF)"
      ],
      "execution_count": 54,
      "outputs": [
        {
          "output_type": "stream",
          "text": [
            "{'sunset': 94122, 'presidio': 94129, 'soma': 94105, 'marina': 94123, 'castro': 94114, 'outer_richmond': 94121, 'dogpatch': 94107}\n"
          ],
          "name": "stdout"
        }
      ]
    },
    {
      "cell_type": "markdown",
      "metadata": {
        "id": "fRglvsVKsYds",
        "colab_type": "text"
      },
      "source": [
        "---\n",
        "\n",
        "### 24) Remove the `'sunset'` zip code and assign it to a variable."
      ]
    },
    {
      "cell_type": "code",
      "metadata": {
        "jupyter": {
          "outputs_hidden": false
        },
        "id": "L-pQu9i-sYdt",
        "colab_type": "code",
        "outputId": "c05a0356-17b6-4a33-a8bd-ba0bb2af9cc7",
        "colab": {
          "base_uri": "https://localhost:8080/",
          "height": 52
        }
      },
      "source": [
        "# A:\n",
        "sun_var = SF['sunset']\n",
        "print(sun_var)\n",
        "\n",
        "del SF['sunset']\n",
        "print(SF)\n"
      ],
      "execution_count": 55,
      "outputs": [
        {
          "output_type": "stream",
          "text": [
            "94122\n",
            "{'presidio': 94129, 'soma': 94105, 'marina': 94123, 'castro': 94114, 'outer_richmond': 94121, 'dogpatch': 94107}\n"
          ],
          "name": "stdout"
        }
      ]
    },
    {
      "cell_type": "markdown",
      "metadata": {
        "id": "nbkalIZqsYdv",
        "colab_type": "text"
      },
      "source": [
        "---\n",
        "\n",
        "### 25) Check if the `'dogpatch'` is in the dictionary."
      ]
    },
    {
      "cell_type": "code",
      "metadata": {
        "jupyter": {
          "outputs_hidden": false
        },
        "id": "BE-VT0DrsYdw",
        "colab_type": "code",
        "outputId": "76249a2b-cc2f-42a0-e753-d1c366daf607",
        "colab": {
          "base_uri": "https://localhost:8080/",
          "height": 35
        }
      },
      "source": [
        "# A:\n",
        "if \"dogpatch\" in SF:\n",
        "  print(\"yep\")\n",
        "else:\n",
        "  print(\"nope\")"
      ],
      "execution_count": 58,
      "outputs": [
        {
          "output_type": "stream",
          "text": [
            "yep\n"
          ],
          "name": "stdout"
        }
      ]
    },
    {
      "cell_type": "code",
      "metadata": {
        "id": "ceMSl7MRbfZz",
        "colab_type": "code",
        "colab": {}
      },
      "source": [
        ""
      ],
      "execution_count": 0,
      "outputs": []
    }
  ]
}