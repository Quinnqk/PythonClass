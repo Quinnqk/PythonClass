{
  "nbformat": 4,
  "nbformat_minor": 0,
  "metadata": {
    "anaconda-cloud": {},
    "kernelspec": {
      "display_name": "Python 3",
      "language": "python",
      "name": "python3"
    },
    "language_info": {
      "codemirror_mode": {
        "name": "ipython",
        "version": 3
      },
      "file_extension": ".py",
      "mimetype": "text/x-python",
      "name": "python",
      "nbconvert_exporter": "python",
      "pygments_lexer": "ipython3",
      "version": "3.7.4"
    },
    "colab": {
      "name": "Kowitt-02_python-controlflow.ipynb",
      "provenance": [],
      "collapsed_sections": [
        "N0P2_PqbZL2L",
        "a1a7AGJ-ZL2V",
        "uLI4f26SZL3A",
        "_in11M0TZL3Q",
        "X-3v9LE5ZL3Y",
        "rW1s3WCJZL3f"
      ]
    }
  },
  "cells": [
    {
      "cell_type": "markdown",
      "metadata": {
        "id": "lOQe7ETMZL0M",
        "colab_type": "text"
      },
      "source": [
        "\n",
        "# Python Iterations, Control Flow, and Functions\n",
        "\n",
        "\n",
        "**GOALS**\n",
        "\n",
        "- Understand `Python` control flow and conditional programming.  \n",
        "- Implement `for` and `while` loops to iterate through data structures.\n",
        "- Apply `if… else` conditional statements.\n",
        "- Create functions to perform repetitive actions.\n",
        "- Demonstrate error handling using `try, except` statements.\n",
        "\n",
        "\n",
        "---"
      ]
    },
    {
      "cell_type": "markdown",
      "metadata": {
        "id": "UtZ_wHcBZL0Q",
        "colab_type": "text"
      },
      "source": [
        "<a id='if_else_statements'></a>\n",
        "\n",
        "# `if… else` Statements\n",
        "\n",
        "---\n",
        "\n",
        "In Python, **indentation matters**! This is especially true when we look at the control structures in this lesson. In each case, a block of indented code is only sometimes run. There will always be a condition in the line preceding the indented block that determines whether the indented code is run or skipped.\n",
        "\n",
        "#### `if` Statement\n",
        "\n",
        "The simplest example of a control structure is the `if` statement."
      ]
    },
    {
      "cell_type": "code",
      "metadata": {
        "id": "-gf9S2vpZL0U",
        "colab_type": "code",
        "outputId": "c962ad58-1226-4835-c3d4-594aba940b93",
        "colab": {
          "base_uri": "https://localhost:8080/",
          "height": 52
        }
      },
      "source": [
        "if 1 == 1:\n",
        "    print('The integer 1 is equal to the integer 1.')\n",
        "    print('Is the next indented line run, too?')"
      ],
      "execution_count": 0,
      "outputs": [
        {
          "output_type": "stream",
          "text": [
            "The integer 1 is equal to the integer 1.\n",
            "Is the next indented line run, too?\n"
          ],
          "name": "stdout"
        }
      ]
    },
    {
      "cell_type": "code",
      "metadata": {
        "id": "46gtpHdrZL0f",
        "colab_type": "code",
        "outputId": "76fbe01a-9678-42a7-d705-422f09bce54b",
        "colab": {}
      },
      "source": [
        "if 'one' == 'two':\n",
        "    print(\"The string 'one' is equal to the string 'two'.\")\n",
        "\n",
        "print('---')\n",
        "print('These two lines are not indented, so they are always run next.')"
      ],
      "execution_count": 0,
      "outputs": [
        {
          "output_type": "stream",
          "text": [
            "---\n",
            "These two lines are not indented, so they are always run next.\n"
          ],
          "name": "stdout"
        }
      ]
    },
    {
      "cell_type": "markdown",
      "metadata": {
        "id": "0_bo4twFZL0n",
        "colab_type": "text"
      },
      "source": [
        "Notice that, in Python, the line before every indented block must end with a colon (`:`). In fact, it turns out that the `if` statement has a very specific syntax.\n",
        "\n",
        "```if <expression>:\n",
        "    <one or more indented lines>```\n",
        "\n",
        "When the `if` statement is run, the expression is evaluated to `True` or `False` by applying the built-in `bool()` function to it. If the expression evaluates to `True`, the code block is run; otherwise, it is skipped.\n",
        "\n",
        "#### `if` ... `else`\n",
        "\n",
        "In many cases, you may want to run some code if the expression evaluates to `True` and some different code if it evaluates to `False`. This is done using `else`. Note how it is at the same indentation level as the `if` statement, followed by a colon, followed by a code block. Let's see it in action."
      ]
    },
    {
      "cell_type": "code",
      "metadata": {
        "id": "csnmIxLmZL0p",
        "colab_type": "code",
        "outputId": "b33fad5d-abc7-4851-f066-09f5437a3aad",
        "colab": {}
      },
      "source": [
        "if 50 < 30:\n",
        "    print(\"50 < 30.\")\n",
        "else:\n",
        "    print(\"50 >= 30.\")\n",
        "    print(\"The else code block wdas run instead of the first block.\")\n",
        "\n",
        "print('---')\n",
        "print('These two lines are not indented, so they are always run next.')"
      ],
      "execution_count": 0,
      "outputs": [
        {
          "output_type": "stream",
          "text": [
            "50 >= 30.\n",
            "The else code block wdas run instead of the first block.\n",
            "---\n",
            "These two lines are not indented, so they are always run next.\n"
          ],
          "name": "stdout"
        }
      ]
    },
    {
      "cell_type": "markdown",
      "metadata": {
        "id": "jPNloDVlZL0w",
        "colab_type": "text"
      },
      "source": [
        "#### `if` ... `elif` ... `else`\n",
        "\n",
        "Sometimes, you might want to run one specific code block out of several. For example, perhaps we provide the user with three choices and want something different to happen with each one.\n",
        "\n",
        "`elif` stands for `else if`. It belongs on a line between the initial `if` statement and an (optional) `else`. "
      ]
    },
    {
      "cell_type": "code",
      "metadata": {
        "id": "3ambXfAjZL0y",
        "colab_type": "code",
        "outputId": "c9d31297-952d-463a-92f5-19f29fd8e5a0",
        "colab": {
          "base_uri": "https://localhost:8080/",
          "height": 69
        }
      },
      "source": [
        "health = 85\n",
        "\n",
        "if health > 70:\n",
        "    print('You are in great health!')\n",
        "elif health > 40:\n",
        "    print('Your health is average.')\n",
        "    print('Exercise and eat healthily!')\n",
        "else:\n",
        "    print('Your health is low.')\n",
        "    print('Please see a doctor now.')\n",
        "\n",
        "print('---')\n",
        "print('These two lines are not indented, so they are always run next.')"
      ],
      "execution_count": 0,
      "outputs": [
        {
          "output_type": "stream",
          "text": [
            "You are in great health!\n",
            "---\n",
            "These two lines are not indented, so they are always run next.\n"
          ],
          "name": "stdout"
        }
      ]
    },
    {
      "cell_type": "markdown",
      "metadata": {
        "id": "jHOKMYuaZL05",
        "colab_type": "text"
      },
      "source": [
        "This code works by evaluating each condition in order. If a condition evaluates to `True`, the rest are skipped.\n",
        "\n",
        "**Let's walk through the code.** First, we let `health = 55`. We move to the next line at the same indentation level — the `if`. We evaluate `health > 70` to be `False`, so its code block is skipped. Next, the interpreter moves to the next line at the same outer indentation level, which happens to be the `elif`. It evaluates its expression, `health > 40`, to be `True`, so its code block is run. Now, because a code block was run, the rest of the `if` statement is skipped."
      ]
    },
    {
      "cell_type": "markdown",
      "metadata": {
        "id": "5xpaTQPCZL06",
        "colab_type": "text"
      },
      "source": [
        "### 1) Write an `if… else` statement to check whether or not the suitcase weighs more than 50 pounds.\n",
        "\n",
        "Print a message indicating whether or not the suitcase weighs more than 50 pounds."
      ]
    },
    {
      "cell_type": "code",
      "metadata": {
        "id": "gqU0vfyCZL09",
        "colab_type": "code",
        "outputId": "28c9e534-93c4-4082-cfba-0e2432218b72",
        "colab": {
          "base_uri": "https://localhost:8080/",
          "height": 35
        }
      },
      "source": [
        "weight = float((input(\"How many pounds does your suitcase weigh?\")))"
      ],
      "execution_count": 0,
      "outputs": [
        {
          "output_type": "stream",
          "text": [
            "How many pounds does your suitcase weigh?15\n"
          ],
          "name": "stdout"
        }
      ]
    },
    {
      "cell_type": "code",
      "metadata": {
        "id": "0V-EuPV7ZL1E",
        "colab_type": "code",
        "outputId": "6b4e0e9c-fc1a-4ab2-bd95-71b337227179",
        "colab": {
          "base_uri": "https://localhost:8080/",
          "height": 35
        }
      },
      "source": [
        "weight"
      ],
      "execution_count": 0,
      "outputs": [
        {
          "output_type": "execute_result",
          "data": {
            "text/plain": [
              "15.0"
            ]
          },
          "metadata": {
            "tags": []
          },
          "execution_count": 7
        }
      ]
    },
    {
      "cell_type": "code",
      "metadata": {
        "id": "ZWgTypnHZL1L",
        "colab_type": "code",
        "outputId": "af2b99fa-3bff-4574-96b1-41abdd5f6d53",
        "colab": {
          "base_uri": "https://localhost:8080/",
          "height": 35
        }
      },
      "source": [
        "# A:\n",
        "if weight < 50 :\n",
        "   print(\"Welcome aboard!\")\n",
        "else:\n",
        "   print(\"Your suitcase weighs too much\")\n",
        "   print(\"there will be an additional fee\")\n"
      ],
      "execution_count": 0,
      "outputs": [
        {
          "output_type": "stream",
          "text": [
            "Welcome aboard!\n"
          ],
          "name": "stdout"
        }
      ]
    },
    {
      "cell_type": "markdown",
      "metadata": {
        "id": "d0dgaxyAZL1d",
        "colab_type": "text"
      },
      "source": [
        "---\n",
        "\n",
        "### 2) Write an `if… else` statement for multiple conditions.\n",
        "\n",
        "Print out these recommendations based on the weather conditions:\n",
        "\n",
        "1) The temperature is higher than 60 degrees and it is raining: Bring an umbrella.\n",
        "2) The temperature is lower than or equal to 60 degrees and it is raining: Bring an umbrella and a jacket.\n",
        "3) The temperature is higher than 60 degrees and the sun is shining: Wear a T-shirt.\n",
        "4) The temperature is lower than or equal to 60 degrees and the sun is shining: Bring a jacket."
      ]
    },
    {
      "cell_type": "code",
      "metadata": {
        "id": "pc0EeS-OZL1f",
        "colab_type": "code",
        "outputId": "8cafbba7-413d-478d-d7b5-e4587c2abadd",
        "colab": {
          "base_uri": "https://localhost:8080/",
          "height": 52
        }
      },
      "source": [
        "temperature = float(eval(input('What is the temperature? ')))\n",
        "weather = input('What is the weather (rain or shine)? ')"
      ],
      "execution_count": 0,
      "outputs": [
        {
          "output_type": "stream",
          "text": [
            "What is the temperature? 55\n",
            "What is the weather (rain or shine)? rain\n"
          ],
          "name": "stdout"
        }
      ]
    },
    {
      "cell_type": "code",
      "metadata": {
        "id": "HvA2m6bcZL1p",
        "colab_type": "code",
        "outputId": "eede88b1-65ff-4bfc-b2c6-3e7f820dd0d7",
        "colab": {
          "base_uri": "https://localhost:8080/",
          "height": 35
        }
      },
      "source": [
        "# A: What is temptrature\n",
        "#is it raining\n",
        "\n",
        "if temperature > 60 and weather == \"rain\":\n",
        "  print(\"Bring an umbrella\")\n",
        "elif temperature <= 60 and weather == \"rain\":\n",
        "  print(\"Bring a jacket and an umbrella\")\n",
        "elif temperature > 60 and weather == \"shine\":\n",
        "  print(\"Wear a T-shrit\")\n",
        "else:\n",
        "  print(\"Wear a jacket\")"
      ],
      "execution_count": 0,
      "outputs": [
        {
          "output_type": "stream",
          "text": [
            "Bring a jacket and an umbrella\n"
          ],
          "name": "stdout"
        }
      ]
    },
    {
      "cell_type": "markdown",
      "metadata": {
        "id": "vDmIqP9CZL1v",
        "colab_type": "text"
      },
      "source": [
        "---\n",
        "<a id='for_loops'></a>\n",
        "# `for` Loops\n",
        "\n",
        "\n",
        "One of the primary purposes of using a programming language is to automate repetitive tasks. One such means in Python is the `for` loop.\n",
        "\n",
        "The `for` loop allows you to perform a task repeatedly on every element within an object, such as every name in a list.\n",
        "\n",
        "\n",
        "Let's see how the pseudocode works:\n",
        "\n",
        "```python\n",
        "# For each individual object in the list\n",
        "    # perform task_A on said object.\n",
        "    # Once task_A has been completed, move to next object in the list.\n",
        "```\n",
        "\n",
        "Let's say we wanted to print each of the names in the list, as well as \"is Awesome!\""
      ]
    },
    {
      "cell_type": "code",
      "metadata": {
        "id": "e8wnBULqZL1x",
        "colab_type": "code",
        "outputId": "202bd5a6-6e1a-4b24-8afb-c047e8f1474c",
        "colab": {}
      },
      "source": [
        "names = ['Alex', 'Brian', 'Catherine']\n",
        "\n",
        "for name in names:\n",
        "    print(name + ' Is Awesome!')"
      ],
      "execution_count": 0,
      "outputs": [
        {
          "output_type": "stream",
          "text": [
            "Alex Is Awesome!\n",
            "Brian Is Awesome!\n",
            "Catherine Is Awesome!\n"
          ],
          "name": "stdout"
        }
      ]
    },
    {
      "cell_type": "markdown",
      "metadata": {
        "id": "7vNi1M2LZL13",
        "colab_type": "text"
      },
      "source": [
        "This process of cycling through a list item by item is known as \"iteration.\" "
      ]
    },
    {
      "cell_type": "markdown",
      "metadata": {
        "id": "Eqmcf3-OZL15",
        "colab_type": "text"
      },
      "source": [
        "---\n",
        "\n",
        "### 3) Write a `for` loop that iterates from number 1 to number 15.\n",
        "\n",
        "On each iteration, print out the number.  \n"
      ]
    },
    {
      "cell_type": "code",
      "metadata": {
        "jupyter": {
          "outputs_hidden": true
        },
        "id": "zb_U08tOZL17",
        "colab_type": "code",
        "outputId": "9f9b3585-8643-49e9-b882-ca340030e159",
        "colab": {
          "base_uri": "https://localhost:8080/",
          "height": 139
        }
      },
      "source": [
        "# A:\n",
        "for num in range(1, 15,2):\n",
        "  print(num)\n"
      ],
      "execution_count": 0,
      "outputs": [
        {
          "output_type": "stream",
          "text": [
            "1\n",
            "3\n",
            "5\n",
            "7\n",
            "9\n",
            "11\n",
            "13\n"
          ],
          "name": "stdout"
        }
      ]
    },
    {
      "cell_type": "markdown",
      "metadata": {
        "id": "6QyVgomZZL2B",
        "colab_type": "text"
      },
      "source": [
        "---\n",
        "\n",
        "### 4) Iterate from 1 to 15, printing whether the number is odd or even.\n",
        "\n",
        "Hint: The modulus operator, `%`, can be used to take the remainder. For example:\n",
        "\n",
        "```python\n",
        "9 % 5 == 4\n",
        "```\n",
        "\n",
        "Or, in other words, the remainder of dividing 9 by 5 is 4."
      ]
    },
    {
      "cell_type": "code",
      "metadata": {
        "id": "dlKl6blrZL2D",
        "colab_type": "code",
        "outputId": "116f2b30-735f-48fc-db85-643bc323616c",
        "colab": {
          "base_uri": "https://localhost:8080/",
          "height": 277
        }
      },
      "source": [
        "for num in range(1,16):\n",
        "  if num % 2 == 0:\n",
        "    print(\"The number\",num,\"is Even\")\n",
        "  else:\n",
        "    print(f\"the number {num} is Odd\" )\n",
        "\n"
      ],
      "execution_count": 0,
      "outputs": [
        {
          "output_type": "stream",
          "text": [
            "the number 1 is Odd\n",
            "The number 2 is Even\n",
            "the number 3 is Odd\n",
            "The number 4 is Even\n",
            "the number 5 is Odd\n",
            "The number 6 is Even\n",
            "the number 7 is Odd\n",
            "The number 8 is Even\n",
            "the number 9 is Odd\n",
            "The number 10 is Even\n",
            "the number 11 is Odd\n",
            "The number 12 is Even\n",
            "the number 13 is Odd\n",
            "The number 14 is Even\n",
            "the number 15 is Odd\n"
          ],
          "name": "stdout"
        }
      ]
    },
    {
      "cell_type": "markdown",
      "metadata": {
        "id": "N0P2_PqbZL2L",
        "colab_type": "text"
      },
      "source": [
        "---\n",
        "<a id='fizz_buzz'></a>\n",
        "### 5) Iterate from 1 to 30 using the following instructions:\n",
        "\n",
        "1) If a number is divisible by 3, print \"fizz.\"\n",
        "2) If a number is divisible by 5, print \"buzz.\" \n",
        "3) If a number is both divisible by 3 and by 5, print \"fizzbuzz.\"\n",
        "4) Otherwise, print just the number."
      ]
    },
    {
      "cell_type": "code",
      "metadata": {
        "jupyter": {
          "outputs_hidden": true
        },
        "id": "K7owXL8UZL2N",
        "colab_type": "code",
        "colab": {
          "base_uri": "https://localhost:8080/",
          "height": 537
        },
        "outputId": "b8121d30-1c8b-40fd-fd08-ef4c05c0b8f9"
      },
      "source": [
        "# A:\n",
        "for num in range(1,31):\n",
        "  if num % 3 == 0 and num % 5 == 0:\n",
        "    print(\"fizzbuzz.\")\n",
        "  elif num % 3 == 0:\n",
        "    print(\"fizz.\")\n",
        "  elif num % 5 == 0:\n",
        "    print(\"buzz.\")\n",
        "  else:\n",
        "    print(num)  "
      ],
      "execution_count": 3,
      "outputs": [
        {
          "output_type": "stream",
          "text": [
            "1\n",
            "2\n",
            "fizz.\n",
            "4\n",
            "buzz.\n",
            "fizz.\n",
            "7\n",
            "8\n",
            "fizz.\n",
            "buzz.\n",
            "11\n",
            "fizz.\n",
            "13\n",
            "14\n",
            "fizzbuzz.\n",
            "16\n",
            "17\n",
            "fizz.\n",
            "19\n",
            "buzz.\n",
            "fizz.\n",
            "22\n",
            "23\n",
            "fizz.\n",
            "buzz.\n",
            "26\n",
            "fizz.\n",
            "28\n",
            "29\n",
            "fizzbuzz.\n"
          ],
          "name": "stdout"
        }
      ]
    },
    {
      "cell_type": "markdown",
      "metadata": {
        "id": "H0NbUkxZZL2U",
        "colab_type": "text"
      },
      "source": [
        "Remember this example. FizzBuzz is a common coding challenge. It is relatively easy to solve, but those who ask are always looking for more creative ways to solve or optimize it."
      ]
    },
    {
      "cell_type": "markdown",
      "metadata": {
        "id": "a1a7AGJ-ZL2V",
        "colab_type": "text"
      },
      "source": [
        "---\n",
        "\n",
        "### 6) Iterate through the following list of animals and print each one in all caps."
      ]
    },
    {
      "cell_type": "code",
      "metadata": {
        "jupyter": {
          "outputs_hidden": true
        },
        "id": "v3IysPZUZL2X",
        "colab_type": "code",
        "colab": {}
      },
      "source": [
        "animals = ['duck', 'rat', 'boar', 'slug', 'mammoth', 'gazelle']"
      ],
      "execution_count": 0,
      "outputs": []
    },
    {
      "cell_type": "code",
      "metadata": {
        "collapsed": true,
        "jupyter": {
          "outputs_hidden": true
        },
        "id": "_MYi-QoJZL2d",
        "colab_type": "code",
        "outputId": "8f92bd48-8993-465a-c98d-b955f6f1a633",
        "colab": {
          "base_uri": "https://localhost:8080/",
          "height": 121
        }
      },
      "source": [
        "# A:\n",
        "for animal in animals:\n",
        "  print(animal.upper())"
      ],
      "execution_count": 7,
      "outputs": [
        {
          "output_type": "stream",
          "text": [
            "DUCK\n",
            "RAT\n",
            "BOAR\n",
            "SLUG\n",
            "MAMMOTH\n",
            "GAZELLE\n"
          ],
          "name": "stdout"
        }
      ]
    },
    {
      "cell_type": "markdown",
      "metadata": {
        "id": "NS5CHuDtZL2h",
        "colab_type": "text"
      },
      "source": [
        "---\n",
        "\n",
        "### 7) Iterate through the animals list. Capitalize the first letter and append the modified animals to a new list."
      ]
    },
    {
      "cell_type": "code",
      "metadata": {
        "id": "pRYWAyS2xxnw",
        "colab_type": "code",
        "colab": {}
      },
      "source": [
        "animals2 = []"
      ],
      "execution_count": 0,
      "outputs": []
    },
    {
      "cell_type": "code",
      "metadata": {
        "jupyter": {
          "outputs_hidden": true
        },
        "id": "Un1kfNk9ZL2j",
        "colab_type": "code",
        "colab": {}
      },
      "source": [
        "# A:\n",
        "for animal in animals:\n",
        "  animals2.append(animal.capitalize())\n",
        "\n"
      ],
      "execution_count": 0,
      "outputs": []
    },
    {
      "cell_type": "code",
      "metadata": {
        "id": "RFHEtxhIxyiA",
        "colab_type": "code",
        "colab": {
          "base_uri": "https://localhost:8080/",
          "height": 35
        },
        "outputId": "47f278ec-581b-4ae1-9d7b-36b0c08ec62d"
      },
      "source": [
        "print(animals2)"
      ],
      "execution_count": 22,
      "outputs": [
        {
          "output_type": "stream",
          "text": [
            "['Duck', 'Rat', 'Boar', 'Slug', 'Mammoth', 'Gazelle']\n"
          ],
          "name": "stdout"
        }
      ]
    },
    {
      "cell_type": "markdown",
      "metadata": {
        "id": "NE3u2fXcZL2n",
        "colab_type": "text"
      },
      "source": [
        "---\n",
        "\n",
        "### 8) Iterate through the animals. Print out the animal name and the number of vowels in the name.\n",
        "Hint: You may need to create a variable of vowels for comparison."
      ]
    },
    {
      "cell_type": "code",
      "metadata": {
        "jupyter": {
          "outputs_hidden": true
        },
        "id": "OBiOK10CZL2o",
        "colab_type": "code",
        "colab": {
          "base_uri": "https://localhost:8080/",
          "height": 121
        },
        "outputId": "078cc629-71fa-4794-931b-8844afbbdcac"
      },
      "source": [
        "# A\n",
        "vowels = ['a','e','i','o','u']\n",
        "def vowel_counter(animal):\n",
        "  count = 0\n",
        "  for letter in animal:\n",
        "    if letter in vowels:\n",
        "      count=count+1\n",
        "  return count\n",
        "for animal in animals:\n",
        "  print(vowel_counter(animal),animal)\n",
        "  \n",
        "  "
      ],
      "execution_count": 48,
      "outputs": [
        {
          "output_type": "stream",
          "text": [
            "1 duck\n",
            "1 rat\n",
            "2 boar\n",
            "1 slug\n",
            "2 mammoth\n",
            "3 gazelle\n"
          ],
          "name": "stdout"
        }
      ]
    },
    {
      "cell_type": "markdown",
      "metadata": {
        "id": "IU_KM5aZZL2s",
        "colab_type": "text"
      },
      "source": [
        "---\n",
        "<a id='functions'></a>\n",
        "# `try` / `except`\n",
        "---\n",
        "\n",
        "Sometimes, code throws a runtime error. For example, division by zero or using a keyword as a variable name."
      ]
    },
    {
      "cell_type": "code",
      "metadata": {
        "id": "kAU2zNiWZL2t",
        "colab_type": "code",
        "outputId": "caced6c8-bf2c-49e2-fffa-705bd1aaa371",
        "colab": {
          "base_uri": "https://localhost:8080/",
          "height": 166
        }
      },
      "source": [
        "1 / 0"
      ],
      "execution_count": 49,
      "outputs": [
        {
          "output_type": "error",
          "ename": "ZeroDivisionError",
          "evalue": "ignored",
          "traceback": [
            "\u001b[0;31m---------------------------------------------------------------------------\u001b[0m",
            "\u001b[0;31mZeroDivisionError\u001b[0m                         Traceback (most recent call last)",
            "\u001b[0;32m<ipython-input-49-bc757c3fda29>\u001b[0m in \u001b[0;36m<module>\u001b[0;34m()\u001b[0m\n\u001b[0;32m----> 1\u001b[0;31m \u001b[0;36m1\u001b[0m \u001b[0;34m/\u001b[0m \u001b[0;36m0\u001b[0m\u001b[0;34m\u001b[0m\u001b[0;34m\u001b[0m\u001b[0m\n\u001b[0m",
            "\u001b[0;31mZeroDivisionError\u001b[0m: division by zero"
          ]
        }
      ]
    },
    {
      "cell_type": "code",
      "metadata": {
        "id": "u11hsIvsZL2w",
        "colab_type": "code",
        "outputId": "43183a3d-88ba-45c3-b5b3-29e084d60f04",
        "colab": {}
      },
      "source": [
        "print('a' - 'b')"
      ],
      "execution_count": 0,
      "outputs": [
        {
          "output_type": "error",
          "ename": "TypeError",
          "evalue": "unsupported operand type(s) for -: 'str' and 'str'",
          "traceback": [
            "\u001b[0;31m---------------------------------------------------------------------------\u001b[0m",
            "\u001b[0;31mTypeError\u001b[0m                                 Traceback (most recent call last)",
            "\u001b[0;32m<ipython-input-39-2eca43ca5017>\u001b[0m in \u001b[0;36m<module>\u001b[0;34m()\u001b[0m\n\u001b[0;32m----> 1\u001b[0;31m \u001b[0mprint\u001b[0m\u001b[0;34m(\u001b[0m\u001b[0;34m'a'\u001b[0m \u001b[0;34m-\u001b[0m \u001b[0;34m'b'\u001b[0m\u001b[0;34m)\u001b[0m\u001b[0;34m\u001b[0m\u001b[0;34m\u001b[0m\u001b[0m\n\u001b[0m",
            "\u001b[0;31mTypeError\u001b[0m: unsupported operand type(s) for -: 'str' and 'str'"
          ]
        }
      ]
    },
    {
      "cell_type": "markdown",
      "metadata": {
        "id": "hiB3BDoSZL2z",
        "colab_type": "text"
      },
      "source": [
        "These errors are called **exceptions**. Exceptions are serious errors that are **thrown** when the computer cannot continue because the expression cannot be evaluated properly. For example:\n",
        "\n",
        "+ Using the addition operator to add a string and a non-string.\n",
        "+ Using an undefined name.\n",
        "+ Opening a file that does not exist."
      ]
    },
    {
      "cell_type": "markdown",
      "metadata": {
        "id": "P3BmadVbZL21",
        "colab_type": "text"
      },
      "source": [
        "Luckily, our program does not have to be this fragile. By wrapping a code block with `try`, we can \"catch\" exceptions. If an exception occurs, instead of exiting, the computer immediately executes the matching `except` block and continues the program."
      ]
    },
    {
      "cell_type": "code",
      "metadata": {
        "id": "2HlUrXBhZL22",
        "colab_type": "code",
        "outputId": "b2dacfb2-cc7b-45b4-918c-3a6560b90ad5",
        "colab": {}
      },
      "source": [
        "a = [1, 2, 3, 0]\n",
        "for num in a:\n",
        "    try:\n",
        "        print(1 / num)\n",
        "        #print('not executed due to the exception')\n",
        "    except:\n",
        "        print('Divide by zero!')\n",
        "\n",
        "print('Program keeps executing!')"
      ],
      "execution_count": 0,
      "outputs": [
        {
          "output_type": "stream",
          "text": [
            "1.0\n",
            "0.5\n",
            "0.3333333333333333\n",
            "Divide by zero!\n",
            "Program keeps executing!\n"
          ],
          "name": "stdout"
        }
      ]
    },
    {
      "cell_type": "markdown",
      "metadata": {
        "id": "ieQp8OinZL26",
        "colab_type": "text"
      },
      "source": [
        "Sometimes, you might want to do nothing in the event of an exception. However, an indented code block is still required! So, you can use the keyword `pass`."
      ]
    },
    {
      "cell_type": "code",
      "metadata": {
        "scrolled": true,
        "id": "tHNdB4cvZL27",
        "colab_type": "code",
        "outputId": "1ddc0822-48f4-44aa-f81c-ed11e6781a0a",
        "colab": {}
      },
      "source": [
        "try:\n",
        "    print('a' - 'b')\n",
        "except:\n",
        "    pass\n",
        "\n",
        "print('Program keeps executing!')"
      ],
      "execution_count": 0,
      "outputs": [
        {
          "output_type": "stream",
          "text": [
            "Program keeps executing!\n"
          ],
          "name": "stdout"
        }
      ]
    },
    {
      "cell_type": "markdown",
      "metadata": {
        "id": "w43upGOmZL2_",
        "colab_type": "text"
      },
      "source": [
        "We can also catch specific exceptions and use try/except in more ways, but we'll keep it brief for this introduction!"
      ]
    },
    {
      "cell_type": "markdown",
      "metadata": {
        "id": "uLI4f26SZL3A",
        "colab_type": "text"
      },
      "source": [
        "---\n",
        "<a id='functions'></a>\n",
        "# Functions\n",
        "---\n",
        "\n",
        "Similar to the way we can use `for` loops as a means of performing repetitive tasks on a series of objects, we can also create functions to perform repetitive tasks. Within a function, we can write a large block of action and then call the function whenever we want to use it.  \n",
        "\n",
        "\n",
        "Let's make some pseudocode:\n",
        "```python\n",
        "# Define the function name and the requirements it needs.\n",
        "    # Perform actions.\n",
        "    # Optional: Return output.\n",
        "```\n",
        "\n",
        "Let's create a function that takes two numbers as arguments and returns their sum, difference, and product. "
      ]
    },
    {
      "cell_type": "code",
      "metadata": {
        "id": "189ROvFDZL3B",
        "colab_type": "code",
        "colab": {}
      },
      "source": [
        "def arithmetic(num1, num2):\n",
        "    '''\n",
        "    This function adds, subtracts\n",
        "    and multiplies num1 and num2.\n",
        "    '''\n",
        "    print(num1 + num2)\n",
        "    print(num1 - num2)\n",
        "    print(num1 * num2)\n",
        "    \n",
        "#arithmetic(3,5)"
      ],
      "execution_count": 0,
      "outputs": []
    },
    {
      "cell_type": "code",
      "metadata": {
        "id": "9xNBJBMtZL3F",
        "colab_type": "code",
        "outputId": "0c54f4bf-1665-4a87-854f-051ae9fbe37a",
        "colab": {}
      },
      "source": [
        "arithmetic(3, 5)"
      ],
      "execution_count": 0,
      "outputs": [
        {
          "output_type": "stream",
          "text": [
            "8\n",
            "-2\n",
            "15\n"
          ],
          "name": "stdout"
        }
      ]
    },
    {
      "cell_type": "code",
      "metadata": {
        "id": "_k0bysfDZL3J",
        "colab_type": "code",
        "outputId": "25e5958e-e29f-4c03-afb0-7e2c17e6c459",
        "colab": {}
      },
      "source": [
        "round(13.456, 2)"
      ],
      "execution_count": 0,
      "outputs": [
        {
          "output_type": "execute_result",
          "data": {
            "text/plain": [
              "13.46"
            ]
          },
          "metadata": {
            "tags": []
          },
          "execution_count": 48
        }
      ]
    },
    {
      "cell_type": "markdown",
      "metadata": {
        "id": "8mwRJ62xZL3M",
        "colab_type": "text"
      },
      "source": [
        "Once we define the function, it will exist until we reset our kernel, close our notebook, or overwrite it."
      ]
    },
    {
      "cell_type": "code",
      "metadata": {
        "id": "6NZpVwrkZL3N",
        "colab_type": "code",
        "outputId": "b6565dbb-01f7-40c8-df82-a25809599907",
        "colab": {}
      },
      "source": [
        "arithmetic(4,10)"
      ],
      "execution_count": 0,
      "outputs": [
        {
          "output_type": "stream",
          "text": [
            "14\n",
            "-6\n",
            "40\n"
          ],
          "name": "stdout"
        }
      ]
    },
    {
      "cell_type": "markdown",
      "metadata": {
        "id": "_in11M0TZL3Q",
        "colab_type": "text"
      },
      "source": [
        "### 9) Write a function that takes a word as an argument and returns the \n",
        "\n",
        "1.   List item\n",
        "2.   List item\n",
        "\n",
        "number of vowels in the word.\n",
        "\n",
        "Try it out on three words."
      ]
    },
    {
      "cell_type": "code",
      "metadata": {
        "jupyter": {
          "outputs_hidden": true
        },
        "id": "8Od3SIdoZL3R",
        "colab_type": "code",
        "colab": {}
      },
      "source": [
        "# A:\n",
        "def vowelcount(word):\n",
        "  count = 0\n",
        "  vowels = [\"a\",\"e\",\"i\",\"o\",\"u\"]\n",
        "  for letter in word.lower():\n",
        "    if letter in vowels:\n",
        "      count = count + 1\n",
        "  return count"
      ],
      "execution_count": 0,
      "outputs": []
    },
    {
      "cell_type": "code",
      "metadata": {
        "id": "EeA8tfPAZL3U",
        "colab_type": "code",
        "outputId": "df691e7d-2cce-495a-b94f-3cb8f611ca72",
        "colab": {
          "base_uri": "https://localhost:8080/",
          "height": 35
        }
      },
      "source": [
        "vowelcount(\"riba hossain\")"
      ],
      "execution_count": 55,
      "outputs": [
        {
          "output_type": "execute_result",
          "data": {
            "text/plain": [
              "5"
            ]
          },
          "metadata": {
            "tags": []
          },
          "execution_count": 55
        }
      ]
    },
    {
      "cell_type": "code",
      "metadata": {
        "id": "2CN-K0p05z1q",
        "colab_type": "code",
        "colab": {
          "base_uri": "https://localhost:8080/",
          "height": 35
        },
        "outputId": "0b08fb97-b4bb-44fd-d868-8dc5e6fb9cfa"
      },
      "source": [
        "vowelcount(\"AAAA\")"
      ],
      "execution_count": 61,
      "outputs": [
        {
          "output_type": "execute_result",
          "data": {
            "text/plain": [
              "4"
            ]
          },
          "metadata": {
            "tags": []
          },
          "execution_count": 61
        }
      ]
    },
    {
      "cell_type": "code",
      "metadata": {
        "id": "KynzkK286nhc",
        "colab_type": "code",
        "colab": {
          "base_uri": "https://localhost:8080/",
          "height": 35
        },
        "outputId": "9385bf5b-9bb5-4397-816d-c977fa77c327"
      },
      "source": [
        "vowelcount(\"oh\")"
      ],
      "execution_count": 64,
      "outputs": [
        {
          "output_type": "execute_result",
          "data": {
            "text/plain": [
              "1"
            ]
          },
          "metadata": {
            "tags": []
          },
          "execution_count": 64
        }
      ]
    },
    {
      "cell_type": "markdown",
      "metadata": {
        "id": "X-3v9LE5ZL3Y",
        "colab_type": "text"
      },
      "source": [
        "---\n",
        "\n",
        "### 10) Write a function to calculate the area of a triangle using a height and width.\n",
        "\n",
        "Test it out."
      ]
    },
    {
      "cell_type": "code",
      "metadata": {
        "jupyter": {
          "outputs_hidden": true
        },
        "id": "SXYKSL8jZL3Z",
        "colab_type": "code",
        "colab": {}
      },
      "source": [
        "# A:\n",
        "def triangle_area(height, width):\n",
        "    area=height*width/2\n",
        "    return area\n",
        "    "
      ],
      "execution_count": 0,
      "outputs": []
    },
    {
      "cell_type": "code",
      "metadata": {
        "id": "IWybJyRO64Fr",
        "colab_type": "code",
        "colab": {
          "base_uri": "https://localhost:8080/",
          "height": 35
        },
        "outputId": "12003030-e05f-45a9-a3d0-22eb8e3fe217"
      },
      "source": [
        "triangle_area(4,5)"
      ],
      "execution_count": 69,
      "outputs": [
        {
          "output_type": "execute_result",
          "data": {
            "text/plain": [
              "10.0"
            ]
          },
          "metadata": {
            "tags": []
          },
          "execution_count": 69
        }
      ]
    },
    {
      "cell_type": "markdown",
      "metadata": {
        "id": "-P4KGm9CZL3d",
        "colab_type": "text"
      },
      "source": [
        "---\n",
        "<a id='while_loops'></a>\n",
        "# `while` Loops\n",
        "---\n",
        "\n",
        "\n",
        "`while` loops are a different means of performing repetitive tasks/iteration. The function of a `for` loop is to perform tasks over a _finite list_. The function of a `while` loop is to perform a repetitive task until a _specific threshold or criteria point is met_. Keep in mind that this can be relatively dangerous, as it is easy to create a loop that never meets your criteria and runs forever.\n",
        "\n",
        "_We say \"list,\" but we're not just talking about a Python list data type. We're including any data type where information can be iterated through._\n",
        "\n",
        "Let's look at some pseudocode:\n",
        "\n",
        "```python\n",
        "# A threshold or criteria point is set.\n",
        "    # As long as the threshold or criteria point isn't met,\n",
        "    # perform a task.\n",
        "    # Check threshold/criteria point.\n",
        "        # If threshold/criteria point is met or exceeded,\n",
        "            # break loop.\n",
        "        # If not, repeat.\n",
        "    \n",
        "```\n",
        "\n",
        "An example of an infinite `while` loop:\n",
        "\n",
        "```python\n",
        "x = 0\n",
        "while x < 10:\n",
        "    print x\n",
        "```\n",
        "\n",
        "Because the value assigned to `x` never changes and always remains less than 10, this loop will print \"`x`\" infinitely until you force-kill the kernel. \n",
        "\n",
        "We can fix this infinity loop by including a incrementation for `x` within it.\n",
        "\n",
        "```python\n",
        "x = 0\n",
        "while x < 10:\n",
        "    print x\n",
        "    x = x+1\n",
        "```\n",
        "\n"
      ]
    },
    {
      "cell_type": "markdown",
      "metadata": {
        "id": "rW1s3WCJZL3f",
        "colab_type": "text"
      },
      "source": [
        "### 11) Use `while` loops and strings.\n",
        "\n",
        "Iterate over the following sentence repeatedly, counting the number of vowels in the sentence until you have tallied one million. Print out the number of iterations it took to reach that amount."
      ]
    },
    {
      "cell_type": "code",
      "metadata": {
        "jupyter": {
          "outputs_hidden": true
        },
        "id": "GF8FU57mZL3g",
        "colab_type": "code",
        "colab": {}
      },
      "source": [
        "sentence = \"A MAN KNOCKED ON MY DOOR AND ASKED FOR A SMALL DONATION TOWARDS THE LOCAL SWIMMING POOL SO I GAVE HIM A GLASS OF WATER\""
      ],
      "execution_count": 0,
      "outputs": []
    },
    {
      "cell_type": "code",
      "metadata": {
        "id": "6uv1PozXZL3k",
        "colab_type": "code",
        "colab": {}
      },
      "source": [
        "def vowel_counter(word):\n",
        "    '''\n",
        "    This function takes in a word and \n",
        "    counts how many vowels\n",
        "    '''\n",
        "    count = 0\n",
        "    for letter in word:\n",
        "        if letter in 'aeiouAEIOU':\n",
        "#         if letter in ['a', 'e', 'i', 'o', 'u']:\n",
        "            count += 1\n",
        "    return count"
      ],
      "execution_count": 0,
      "outputs": []
    },
    {
      "cell_type": "code",
      "metadata": {
        "jupyter": {
          "outputs_hidden": true
        },
        "id": "ROK9ivPkZL3n",
        "colab_type": "code",
        "colab": {
          "base_uri": "https://localhost:8080/",
          "height": 35
        },
        "outputId": "aa1a5057-27ec-4619-889b-6b87da34534d"
      },
      "source": [
        "# A:\n",
        "itterations = 0\n",
        "totalcount = 0\n",
        "while totalcount < 1000000:\n",
        "  totalcount = totalcount + vowel_counter(sentence)\n",
        "  itterations = itterations + 1\n",
        "print(itterations)"
      ],
      "execution_count": 73,
      "outputs": [
        {
          "output_type": "stream",
          "text": [
            "27778\n"
          ],
          "name": "stdout"
        }
      ]
    },
    {
      "cell_type": "markdown",
      "metadata": {
        "id": "NGqdhn1MZL3p",
        "colab_type": "text"
      },
      "source": [
        "---\n",
        "\n",
        "### 12) Try to convert elements in a list to floats.\n",
        "\n",
        "Create a new list with the converted numbers. If something cannot be converted, skip it and append nothing to the new list.\n",
        "\n",
        "_Hint: Use error-handling methods._"
      ]
    },
    {
      "cell_type": "code",
      "metadata": {
        "jupyter": {
          "outputs_hidden": true
        },
        "id": "O1CvEYsQZL3q",
        "colab_type": "code",
        "colab": {}
      },
      "source": [
        "corrupted = ['!1', '23.1', '23.4.5', '??12', '.12', '12-12', '-11.1', '0-1', '*12.1', '1000']"
      ],
      "execution_count": 0,
      "outputs": []
    },
    {
      "cell_type": "code",
      "metadata": {
        "jupyter": {
          "outputs_hidden": true
        },
        "id": "4AJBVLH9ZL3z",
        "colab_type": "code",
        "colab": {
          "base_uri": "https://localhost:8080/",
          "height": 35
        },
        "outputId": "2342a5b5-788e-4e66-e533-1b5b5b873bd3"
      },
      "source": [
        "# A:\n",
        "fixed = []\n",
        "for num in corrupted:\n",
        "  try:\n",
        "    fixed.append(float(num))\n",
        "  except:\n",
        "    pass\n",
        "print(fixed)"
      ],
      "execution_count": 77,
      "outputs": [
        {
          "output_type": "stream",
          "text": [
            "[23.1, 0.12, -11.1, 1000.0]\n"
          ],
          "name": "stdout"
        }
      ]
    },
    {
      "cell_type": "markdown",
      "metadata": {
        "id": "yzafWNjYZL34",
        "colab_type": "text"
      },
      "source": [
        "\n",
        "<a name=\"conclusion\"></a>\n",
        "## Lesson Summary\n",
        "\n",
        "\n",
        "Let's review what we learned today. We:\n",
        "\n",
        "- Reviewed `Python` control flow and conditional programming. \n",
        "- Implemented `for` and `while` loops to iterate through data structures.\n",
        "- Applied `if… else` conditional statements.\n",
        "- Created functions to perform repetitive actions.\n",
        "- Demonstrated error handling using `try, except` statements.\n",
        "- Combined control flow and conditional statements to solve the classic \"FizzBuzz\" code challenge.\n",
        "\n",
        "\n",
        "\n",
        "\n",
        "### Additional Resources\n",
        "\n",
        "- [Learn Python on Codecademy](https://www.codecademy.com/learn/python)\n",
        "- [Learn Python the Hard Way](https://learnpythonthehardway.org)\n",
        "- [Python Data Types and Variables](http://www.python-course.eu/variables.php)\n",
        "- [Python IF… ELIF… ELSE Statements](https://www.tutorialspoint.com/python/python_if_else.htm)\n",
        "- [Python Loops](https://www.tutorialspoint.com/python/python_loops.htm)\n",
        "- [Python Control Flow](https://python.swaroopch.com/control_flow.html)"
      ]
    }
  ]
}